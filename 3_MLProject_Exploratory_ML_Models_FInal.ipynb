{
 "cells": [
  {
   "cell_type": "markdown",
   "metadata": {},
   "source": [
    "# 3) ML Project - Air Pollution - Data Exploration - Merging Additional Databases"
   ]
  },
  {
   "cell_type": "markdown",
   "metadata": {},
   "source": [
    "<font color='blue'> Scripts by Kevin Jeswani, Junaid Zafar, & Laiba Shah \n",
    "<br>\n",
    "WeCloudData Bootcamp 2022 (Part-time Cohort)<br> </font>\n",
    "\n",
    "First we take a look at a dataset for air pollutions deaths due over time for different countries. We visualize data and develop the linear regression models on the regional and national level. The linear regression models are valuable at predicting the general trend in deaths due over time and be used to predict future deaths, where past data appears to be highly linear. It has severe limitations for many countries. Polynomial models could be explored. To explore the interaction with other features, we proceed to merge different datasets between death due to environmental factors and socio-demographic/economic factors. We then examine them in 3 tree-based machine learning models.\n",
    "\n",
    "The set of scripts in the folder 'AirPollution_Scripts' are segmented for the purpose of clarity & convenience <br>\n",
    "The following is the suggested order for running the scripts:\n",
    "- 'MLProject_AirPollution_Viz_LR.ipynb' - loading the initial Kaggle air pollution deaths dataset, processing, visualizing the base dataset, linear regression examination and future predictions.\n",
    "- 'MLProject_DataProcessing_OECD_WB_GBD.ipynb'  - loading raw data from world bank and GBD/OECD datasets, cleaning, and merging usable data. We test the use of fuzzy data set merging.\n",
    "- 'MLProject_Exploratory_ML_Models.ipynb' **This Script**- loading the cleaning & merged dataset, testing out KNN regressor, and model selection with PyCaret, and discussion of models/insights in modelling data.\n",
    "- 'MLProject_ML_Models_refined.ipynb' - development of selected machine learning models (Extra Trees, Random Forest, XGBoost), cross-validation, & Ensemble methods; discussion of model results\n",
    "\n",
    "The aim is to explore the intial dataset (https://www.kaggle.com/datasets/akshat0giri/death-due-to-air-pollution-19902017?resource=download), supplement it, infer trends, and make predictions on future deaths due to environmental factors. \n",
    "The data is then supplement with:\n",
    "- Global Burden of Disease Study 2019 Results via OECD.stats: https://stats.oecd.org/index.aspx?lang=en# (where the Kaggle dataset seems to have extracted and cleaned data from)\n",
    "- World Bank Development Indicators: https://databank.worldbank.org/source/world-development-indicators#\n",
    "<br>"
   ]
  },
  {
   "cell_type": "markdown",
   "metadata": {},
   "source": [
    "**NOTE** Steps in 2.0 are repeated in the 4th script for completeness"
   ]
  },
  {
   "cell_type": "markdown",
   "metadata": {},
   "source": [
    "## 1.0 Pre-processing"
   ]
  },
  {
   "cell_type": "markdown",
   "metadata": {},
   "source": [
    "### 1.1 Standard Imports"
   ]
  },
  {
   "cell_type": "code",
   "execution_count": 1,
   "metadata": {},
   "outputs": [],
   "source": [
    "#Data Processing\n",
    "import numpy as np \n",
    "import numexpr\n",
    "\n",
    "import pandas as pd\n",
    "import csv\n",
    "\n",
    "#Plotting\n",
    "import plotly.express as px\n",
    "import matplotlib as mpl\n",
    "import matplotlib.pyplot as plt\n",
    "%matplotlib inline\n",
    "import seaborn as sns\n",
    "sns.set()\n",
    "\n",
    "#Machine Learning - KNN\n",
    "from sklearn.model_selection import train_test_split #Training & Testing\n",
    "from sklearn.metrics import classification_report, confusion_matrix, accuracy_score #Interpreting model score\n",
    "from sklearn.preprocessing import StandardScaler # for data scaling\n",
    "from sklearn.neighbors import KNeighborsRegressor #KNN"
   ]
  },
  {
   "cell_type": "markdown",
   "metadata": {},
   "source": [
    "## 2.0 Data Examination & Processing"
   ]
  },
  {
   "cell_type": "markdown",
   "metadata": {},
   "source": [
    "**NOTE** Steps in 2.0 are repeated in the 4th script for completeness"
   ]
  },
  {
   "cell_type": "code",
   "execution_count": 2,
   "metadata": {},
   "outputs": [],
   "source": [
    "root = r'C:\\Users\\kevin\\Documents\\WCD_Bootcamp\\ML\\ML_Project\\Scripts'\n",
    "root_raw=r'C:\\Users\\kevin\\Documents\\WCD_Bootcamp\\ML\\ML_Project\\Scripts\\Raw Data'\n",
    "root_proc=r'C:\\Users\\kevin\\Documents\\WCD_Bootcamp\\ML\\ML_Project\\Scripts\\Processed'"
   ]
  },
  {
   "cell_type": "markdown",
   "metadata": {},
   "source": [
    "### 2.1 Load Data into DF & Examine Contents"
   ]
  },
  {
   "cell_type": "code",
   "execution_count": 3,
   "metadata": {},
   "outputs": [
    {
     "data": {
      "text/html": [
       "<div>\n",
       "<style scoped>\n",
       "    .dataframe tbody tr th:only-of-type {\n",
       "        vertical-align: middle;\n",
       "    }\n",
       "\n",
       "    .dataframe tbody tr th {\n",
       "        vertical-align: top;\n",
       "    }\n",
       "\n",
       "    .dataframe thead th {\n",
       "        text-align: right;\n",
       "    }\n",
       "</style>\n",
       "<table border=\"1\" class=\"dataframe\">\n",
       "  <thead>\n",
       "    <tr style=\"text-align: right;\">\n",
       "      <th></th>\n",
       "      <th>Unnamed: 0</th>\n",
       "      <th>COU</th>\n",
       "      <th>Country</th>\n",
       "      <th>Year</th>\n",
       "      <th>Deaths_OZone</th>\n",
       "      <th>Deaths_PM2.5</th>\n",
       "      <th>Deaths_Indoor</th>\n",
       "      <th>Deaths_Handwashing</th>\n",
       "      <th>Deaths_Sanitation</th>\n",
       "      <th>Deaths_Water</th>\n",
       "      <th>Deaths_HighTemp</th>\n",
       "      <th>Deaths_LowTemp</th>\n",
       "      <th>GDP_pCapita</th>\n",
       "      <th>Population</th>\n",
       "      <th>Income_Class</th>\n",
       "      <th>SoDI</th>\n",
       "    </tr>\n",
       "  </thead>\n",
       "  <tbody>\n",
       "    <tr>\n",
       "      <th>0</th>\n",
       "      <td>0</td>\n",
       "      <td>AFG</td>\n",
       "      <td>Afghanistan</td>\n",
       "      <td>1990</td>\n",
       "      <td>387.0</td>\n",
       "      <td>2782.0</td>\n",
       "      <td>34372.0</td>\n",
       "      <td>4825.0</td>\n",
       "      <td>2798.0</td>\n",
       "      <td>3702.0</td>\n",
       "      <td>1085.0</td>\n",
       "      <td>7076.0</td>\n",
       "      <td>..</td>\n",
       "      <td>12412311</td>\n",
       "      <td>L</td>\n",
       "      <td>0.187</td>\n",
       "    </tr>\n",
       "    <tr>\n",
       "      <th>1</th>\n",
       "      <td>1</td>\n",
       "      <td>AFG</td>\n",
       "      <td>Afghanistan</td>\n",
       "      <td>1991</td>\n",
       "      <td>376.0</td>\n",
       "      <td>2846.0</td>\n",
       "      <td>35392.0</td>\n",
       "      <td>5127.0</td>\n",
       "      <td>3254.0</td>\n",
       "      <td>4309.0</td>\n",
       "      <td>925.0</td>\n",
       "      <td>7610.0</td>\n",
       "      <td>..</td>\n",
       "      <td>13299016</td>\n",
       "      <td>L</td>\n",
       "      <td>0.191</td>\n",
       "    </tr>\n",
       "    <tr>\n",
       "      <th>2</th>\n",
       "      <td>2</td>\n",
       "      <td>AFG</td>\n",
       "      <td>Afghanistan</td>\n",
       "      <td>1992</td>\n",
       "      <td>364.0</td>\n",
       "      <td>3031.0</td>\n",
       "      <td>38065.0</td>\n",
       "      <td>5889.0</td>\n",
       "      <td>4042.0</td>\n",
       "      <td>5356.0</td>\n",
       "      <td>908.0</td>\n",
       "      <td>8255.0</td>\n",
       "      <td>..</td>\n",
       "      <td>14485543</td>\n",
       "      <td>L</td>\n",
       "      <td>0.195</td>\n",
       "    </tr>\n",
       "    <tr>\n",
       "      <th>3</th>\n",
       "      <td>3</td>\n",
       "      <td>AFG</td>\n",
       "      <td>Afghanistan</td>\n",
       "      <td>1993</td>\n",
       "      <td>367.0</td>\n",
       "      <td>3256.0</td>\n",
       "      <td>41154.0</td>\n",
       "      <td>7007.0</td>\n",
       "      <td>5392.0</td>\n",
       "      <td>7152.0</td>\n",
       "      <td>1159.0</td>\n",
       "      <td>8430.0</td>\n",
       "      <td>..</td>\n",
       "      <td>15816601</td>\n",
       "      <td>L</td>\n",
       "      <td>0.196</td>\n",
       "    </tr>\n",
       "    <tr>\n",
       "      <th>4</th>\n",
       "      <td>4</td>\n",
       "      <td>AFG</td>\n",
       "      <td>Afghanistan</td>\n",
       "      <td>1994</td>\n",
       "      <td>387.0</td>\n",
       "      <td>3401.0</td>\n",
       "      <td>43153.0</td>\n",
       "      <td>7421.0</td>\n",
       "      <td>5418.0</td>\n",
       "      <td>7192.0</td>\n",
       "      <td>1398.0</td>\n",
       "      <td>8659.0</td>\n",
       "      <td>..</td>\n",
       "      <td>17075728</td>\n",
       "      <td>L</td>\n",
       "      <td>0.194</td>\n",
       "    </tr>\n",
       "    <tr>\n",
       "      <th>...</th>\n",
       "      <td>...</td>\n",
       "      <td>...</td>\n",
       "      <td>...</td>\n",
       "      <td>...</td>\n",
       "      <td>...</td>\n",
       "      <td>...</td>\n",
       "      <td>...</td>\n",
       "      <td>...</td>\n",
       "      <td>...</td>\n",
       "      <td>...</td>\n",
       "      <td>...</td>\n",
       "      <td>...</td>\n",
       "      <td>...</td>\n",
       "      <td>...</td>\n",
       "      <td>...</td>\n",
       "      <td>...</td>\n",
       "    </tr>\n",
       "    <tr>\n",
       "      <th>6055</th>\n",
       "      <td>6055</td>\n",
       "      <td>ZWE</td>\n",
       "      <td>Zimbabwe</td>\n",
       "      <td>2015</td>\n",
       "      <td>50.0</td>\n",
       "      <td>2785.0</td>\n",
       "      <td>10435.0</td>\n",
       "      <td>4328.0</td>\n",
       "      <td>2879.0</td>\n",
       "      <td>4336.0</td>\n",
       "      <td>389.0</td>\n",
       "      <td>742.0</td>\n",
       "      <td>1445.069702</td>\n",
       "      <td>13814642</td>\n",
       "      <td>L</td>\n",
       "      <td>0.452</td>\n",
       "    </tr>\n",
       "    <tr>\n",
       "      <th>6056</th>\n",
       "      <td>6056</td>\n",
       "      <td>ZWE</td>\n",
       "      <td>Zimbabwe</td>\n",
       "      <td>2016</td>\n",
       "      <td>58.0</td>\n",
       "      <td>2723.0</td>\n",
       "      <td>10365.0</td>\n",
       "      <td>4295.0</td>\n",
       "      <td>2798.0</td>\n",
       "      <td>4244.0</td>\n",
       "      <td>464.0</td>\n",
       "      <td>762.0</td>\n",
       "      <td>1464.588957</td>\n",
       "      <td>14030338</td>\n",
       "      <td>L</td>\n",
       "      <td>0.459</td>\n",
       "    </tr>\n",
       "    <tr>\n",
       "      <th>6057</th>\n",
       "      <td>6057</td>\n",
       "      <td>ZWE</td>\n",
       "      <td>Zimbabwe</td>\n",
       "      <td>2017</td>\n",
       "      <td>70.0</td>\n",
       "      <td>2630.0</td>\n",
       "      <td>10257.0</td>\n",
       "      <td>4251.0</td>\n",
       "      <td>2744.0</td>\n",
       "      <td>4193.0</td>\n",
       "      <td>180.0</td>\n",
       "      <td>891.0</td>\n",
       "      <td>1235.189032</td>\n",
       "      <td>14236599</td>\n",
       "      <td>L</td>\n",
       "      <td>0.465</td>\n",
       "    </tr>\n",
       "    <tr>\n",
       "      <th>6058</th>\n",
       "      <td>6058</td>\n",
       "      <td>ZWE</td>\n",
       "      <td>Zimbabwe</td>\n",
       "      <td>2018</td>\n",
       "      <td>69.0</td>\n",
       "      <td>2600.0</td>\n",
       "      <td>10113.0</td>\n",
       "      <td>4153.0</td>\n",
       "      <td>2608.0</td>\n",
       "      <td>4013.0</td>\n",
       "      <td>282.0</td>\n",
       "      <td>767.0</td>\n",
       "      <td>1254.642265</td>\n",
       "      <td>14438812</td>\n",
       "      <td>LM</td>\n",
       "      <td>0.471</td>\n",
       "    </tr>\n",
       "    <tr>\n",
       "      <th>6059</th>\n",
       "      <td>6059</td>\n",
       "      <td>ZWE</td>\n",
       "      <td>Zimbabwe</td>\n",
       "      <td>2019</td>\n",
       "      <td>73.0</td>\n",
       "      <td>2607.0</td>\n",
       "      <td>10019.0</td>\n",
       "      <td>4113.0</td>\n",
       "      <td>2531.0</td>\n",
       "      <td>3914.0</td>\n",
       "      <td>326.0</td>\n",
       "      <td>744.0</td>\n",
       "      <td>1316.740657</td>\n",
       "      <td>14645473</td>\n",
       "      <td>LM</td>\n",
       "      <td>0.476</td>\n",
       "    </tr>\n",
       "  </tbody>\n",
       "</table>\n",
       "<p>6060 rows × 16 columns</p>\n",
       "</div>"
      ],
      "text/plain": [
       "      Unnamed: 0  COU      Country  Year  Deaths_OZone  Deaths_PM2.5  \\\n",
       "0              0  AFG  Afghanistan  1990         387.0        2782.0   \n",
       "1              1  AFG  Afghanistan  1991         376.0        2846.0   \n",
       "2              2  AFG  Afghanistan  1992         364.0        3031.0   \n",
       "3              3  AFG  Afghanistan  1993         367.0        3256.0   \n",
       "4              4  AFG  Afghanistan  1994         387.0        3401.0   \n",
       "...          ...  ...          ...   ...           ...           ...   \n",
       "6055        6055  ZWE     Zimbabwe  2015          50.0        2785.0   \n",
       "6056        6056  ZWE     Zimbabwe  2016          58.0        2723.0   \n",
       "6057        6057  ZWE     Zimbabwe  2017          70.0        2630.0   \n",
       "6058        6058  ZWE     Zimbabwe  2018          69.0        2600.0   \n",
       "6059        6059  ZWE     Zimbabwe  2019          73.0        2607.0   \n",
       "\n",
       "      Deaths_Indoor  Deaths_Handwashing  Deaths_Sanitation  Deaths_Water  \\\n",
       "0           34372.0              4825.0             2798.0        3702.0   \n",
       "1           35392.0              5127.0             3254.0        4309.0   \n",
       "2           38065.0              5889.0             4042.0        5356.0   \n",
       "3           41154.0              7007.0             5392.0        7152.0   \n",
       "4           43153.0              7421.0             5418.0        7192.0   \n",
       "...             ...                 ...                ...           ...   \n",
       "6055        10435.0              4328.0             2879.0        4336.0   \n",
       "6056        10365.0              4295.0             2798.0        4244.0   \n",
       "6057        10257.0              4251.0             2744.0        4193.0   \n",
       "6058        10113.0              4153.0             2608.0        4013.0   \n",
       "6059        10019.0              4113.0             2531.0        3914.0   \n",
       "\n",
       "      Deaths_HighTemp  Deaths_LowTemp  GDP_pCapita Population Income_Class  \\\n",
       "0              1085.0          7076.0           ..   12412311            L   \n",
       "1               925.0          7610.0           ..   13299016            L   \n",
       "2               908.0          8255.0           ..   14485543            L   \n",
       "3              1159.0          8430.0           ..   15816601            L   \n",
       "4              1398.0          8659.0           ..   17075728            L   \n",
       "...               ...             ...          ...        ...          ...   \n",
       "6055            389.0           742.0  1445.069702   13814642            L   \n",
       "6056            464.0           762.0  1464.588957   14030338            L   \n",
       "6057            180.0           891.0  1235.189032   14236599            L   \n",
       "6058            282.0           767.0  1254.642265   14438812           LM   \n",
       "6059            326.0           744.0  1316.740657   14645473           LM   \n",
       "\n",
       "       SoDI  \n",
       "0     0.187  \n",
       "1     0.191  \n",
       "2     0.195  \n",
       "3     0.196  \n",
       "4     0.194  \n",
       "...     ...  \n",
       "6055  0.452  \n",
       "6056  0.459  \n",
       "6057  0.465  \n",
       "6058  0.471  \n",
       "6059  0.476  \n",
       "\n",
       "[6060 rows x 16 columns]"
      ]
     },
     "execution_count": 3,
     "metadata": {},
     "output_type": "execute_result"
    }
   ],
   "source": [
    "fid = '\\MergedData_EnvDeaths_GDP_Pop_Income_SoDI.csv'\n",
    "df_in = pd.read_csv(root_proc+fid)\n",
    "df_in"
   ]
  },
  {
   "cell_type": "code",
   "execution_count": 4,
   "metadata": {},
   "outputs": [],
   "source": [
    "df_in=df_in.drop(['Unnamed: 0'],axis=1)"
   ]
  },
  {
   "cell_type": "markdown",
   "metadata": {},
   "source": [
    "#### 2.1.1 Quick Analysis dropping entries/rows with missing values "
   ]
  },
  {
   "cell_type": "code",
   "execution_count": 5,
   "metadata": {},
   "outputs": [],
   "source": [
    "#drop all entries with missing values - can be refined later\n",
    "df1=df_in.dropna()"
   ]
  },
  {
   "cell_type": "code",
   "execution_count": 6,
   "metadata": {
    "scrolled": false
   },
   "outputs": [
    {
     "name": "stderr",
     "output_type": "stream",
     "text": [
      "C:\\Users\\kevin\\AppData\\Local\\Temp\\ipykernel_24420\\1282036442.py:1: SettingWithCopyWarning: \n",
      "A value is trying to be set on a copy of a slice from a DataFrame\n",
      "\n",
      "See the caveats in the documentation: https://pandas.pydata.org/pandas-docs/stable/user_guide/indexing.html#returning-a-view-versus-a-copy\n",
      "  df1.drop(df1[df1['Population']=='..'].index,inplace=True)\n"
     ]
    }
   ],
   "source": [
    "df1.drop(df1[df1['Population']=='..'].index,inplace=True)"
   ]
  },
  {
   "cell_type": "code",
   "execution_count": 7,
   "metadata": {
    "scrolled": false
   },
   "outputs": [
    {
     "name": "stderr",
     "output_type": "stream",
     "text": [
      "C:\\Users\\kevin\\AppData\\Local\\Temp\\ipykernel_24420\\305672289.py:1: SettingWithCopyWarning: \n",
      "A value is trying to be set on a copy of a slice from a DataFrame\n",
      "\n",
      "See the caveats in the documentation: https://pandas.pydata.org/pandas-docs/stable/user_guide/indexing.html#returning-a-view-versus-a-copy\n",
      "  df1.drop(df1[df1['GDP_pCapita']=='..'].index,inplace=True)\n"
     ]
    }
   ],
   "source": [
    "df1.drop(df1[df1['GDP_pCapita']=='..'].index,inplace=True)"
   ]
  },
  {
   "cell_type": "code",
   "execution_count": 8,
   "metadata": {},
   "outputs": [],
   "source": [
    "#Convert to floats as imported incorrectly\n",
    "df1 = df1.astype({'Population':'float'})\n",
    "df1 = df1.astype({'GDP_pCapita':'float'})"
   ]
  },
  {
   "cell_type": "code",
   "execution_count": 9,
   "metadata": {},
   "outputs": [],
   "source": [
    "#Normalize deaths by population (per 100,000)\n",
    "df1['Deaths_OZone']=100000*df1['Deaths_OZone']/df1['Population']\n",
    "df1['Deaths_PM2.5']=100000*df1['Deaths_PM2.5']/df1['Population']\n",
    "df1['Deaths_Indoor']=100000*df1['Deaths_Indoor']/df1['Population']\n",
    "df1['Deaths_Handwashing']=100000*df1['Deaths_Handwashing']/df1['Population']\n",
    "df1['Deaths_Sanitation']=100000*df1['Deaths_Sanitation']/df1['Population']\n",
    "df1['Deaths_Water']=100000*df1['Deaths_Water']/df1['Population']\n",
    "df1['Deaths_HighTemp']=100000*df1['Deaths_HighTemp']/df1['Population']"
   ]
  },
  {
   "cell_type": "markdown",
   "metadata": {},
   "source": [
    "Obviously we see that Population is highly correlated to all the environmental factor death metrics, we need to normalize them in deaths per population of 100,000"
   ]
  },
  {
   "cell_type": "code",
   "execution_count": 10,
   "metadata": {
    "scrolled": false
   },
   "outputs": [
    {
     "data": {
      "text/plain": [
       "(array([ 0.5,  1.5,  2.5,  3.5,  4.5,  5.5,  6.5,  7.5,  8.5,  9.5, 10.5,\n",
       "        11.5]),\n",
       " [Text(0.5, 0, 'Year'),\n",
       "  Text(1.5, 0, 'Deaths_OZone'),\n",
       "  Text(2.5, 0, 'Deaths_PM2.5'),\n",
       "  Text(3.5, 0, 'Deaths_Indoor'),\n",
       "  Text(4.5, 0, 'Deaths_Handwashing'),\n",
       "  Text(5.5, 0, 'Deaths_Sanitation'),\n",
       "  Text(6.5, 0, 'Deaths_Water'),\n",
       "  Text(7.5, 0, 'Deaths_HighTemp'),\n",
       "  Text(8.5, 0, 'Deaths_LowTemp'),\n",
       "  Text(9.5, 0, 'GDP_pCapita'),\n",
       "  Text(10.5, 0, 'Population'),\n",
       "  Text(11.5, 0, 'SoDI')])"
      ]
     },
     "execution_count": 10,
     "metadata": {},
     "output_type": "execute_result"
    },
    {
     "data": {
      "image/png": "[encoded data removed]",
      "text/plain": [
       "<Figure size 800x800 with 2 Axes>"
      ]
     },
     "metadata": {},
     "output_type": "display_data"
    }
   ],
   "source": [
    "#Examine correlation\n",
    "fig, ax = plt.subplots(figsize = (8,8))\n",
    "sns.heatmap(df1.corr(), fmt='.1g', annot = True, ax=ax,linewidths=.5,cmap=\"vlag\")\n",
    "bottom, top = ax.get_ylim()\n",
    "ax.set_ylim(bottom + 0.5, top - 0.5)\n",
    "plt.xticks(rotation=60) \n",
    "#plt.savefig('heat_map.png', format='png', dpi=600,bbox_inches='tight')"
   ]
  },
  {
   "cell_type": "code",
   "execution_count": 11,
   "metadata": {
    "scrolled": false
   },
   "outputs": [
    {
     "data": {
      "text/html": [
       "<div>\n",
       "<style scoped>\n",
       "    .dataframe tbody tr th:only-of-type {\n",
       "        vertical-align: middle;\n",
       "    }\n",
       "\n",
       "    .dataframe tbody tr th {\n",
       "        vertical-align: top;\n",
       "    }\n",
       "\n",
       "    .dataframe thead th {\n",
       "        text-align: right;\n",
       "    }\n",
       "</style>\n",
       "<table border=\"1\" class=\"dataframe\">\n",
       "  <thead>\n",
       "    <tr style=\"text-align: right;\">\n",
       "      <th></th>\n",
       "      <th>Year</th>\n",
       "      <th>Deaths_OZone</th>\n",
       "      <th>Deaths_PM2.5</th>\n",
       "      <th>Deaths_Indoor</th>\n",
       "      <th>Deaths_Handwashing</th>\n",
       "      <th>Deaths_Sanitation</th>\n",
       "      <th>Deaths_Water</th>\n",
       "      <th>Deaths_HighTemp</th>\n",
       "      <th>Deaths_LowTemp</th>\n",
       "      <th>GDP_pCapita</th>\n",
       "      <th>Population</th>\n",
       "      <th>SoDI</th>\n",
       "    </tr>\n",
       "  </thead>\n",
       "  <tbody>\n",
       "    <tr>\n",
       "      <th>count</th>\n",
       "      <td>5712.000000</td>\n",
       "      <td>5712.000000</td>\n",
       "      <td>5712.000000</td>\n",
       "      <td>5712.000000</td>\n",
       "      <td>5712.000000</td>\n",
       "      <td>5712.000000</td>\n",
       "      <td>5712.000000</td>\n",
       "      <td>5712.000000</td>\n",
       "      <td>5712.000000</td>\n",
       "      <td>5712.000000</td>\n",
       "      <td>5.712000e+03</td>\n",
       "      <td>5712.000000</td>\n",
       "    </tr>\n",
       "    <tr>\n",
       "      <th>mean</th>\n",
       "      <td>2004.842787</td>\n",
       "      <td>1.314585</td>\n",
       "      <td>35.660965</td>\n",
       "      <td>45.802912</td>\n",
       "      <td>16.299296</td>\n",
       "      <td>20.197859</td>\n",
       "      <td>27.737189</td>\n",
       "      <td>3.249897</td>\n",
       "      <td>7468.278361</td>\n",
       "      <td>10463.504255</td>\n",
       "      <td>3.371433e+07</td>\n",
       "      <td>0.566551</td>\n",
       "    </tr>\n",
       "    <tr>\n",
       "      <th>std</th>\n",
       "      <td>8.561956</td>\n",
       "      <td>1.737284</td>\n",
       "      <td>27.733254</td>\n",
       "      <td>55.801081</td>\n",
       "      <td>28.414460</td>\n",
       "      <td>37.428147</td>\n",
       "      <td>49.808361</td>\n",
       "      <td>4.655020</td>\n",
       "      <td>37513.970083</td>\n",
       "      <td>16346.645636</td>\n",
       "      <td>1.285389e+08</td>\n",
       "      <td>0.192051</td>\n",
       "    </tr>\n",
       "    <tr>\n",
       "      <th>min</th>\n",
       "      <td>1990.000000</td>\n",
       "      <td>0.000000</td>\n",
       "      <td>4.252653</td>\n",
       "      <td>0.000000</td>\n",
       "      <td>0.000000</td>\n",
       "      <td>0.000000</td>\n",
       "      <td>0.000000</td>\n",
       "      <td>-0.401890</td>\n",
       "      <td>-22.000000</td>\n",
       "      <td>22.795345</td>\n",
       "      <td>8.910000e+03</td>\n",
       "      <td>0.050800</td>\n",
       "    </tr>\n",
       "    <tr>\n",
       "      <th>25%</th>\n",
       "      <td>1998.000000</td>\n",
       "      <td>0.301701</td>\n",
       "      <td>16.209726</td>\n",
       "      <td>1.180528</td>\n",
       "      <td>0.550901</td>\n",
       "      <td>0.080562</td>\n",
       "      <td>0.236367</td>\n",
       "      <td>0.208564</td>\n",
       "      <td>44.750000</td>\n",
       "      <td>990.776456</td>\n",
       "      <td>1.521587e+06</td>\n",
       "      <td>0.423000</td>\n",
       "    </tr>\n",
       "    <tr>\n",
       "      <th>50%</th>\n",
       "      <td>2005.000000</td>\n",
       "      <td>0.762014</td>\n",
       "      <td>27.731755</td>\n",
       "      <td>20.003509</td>\n",
       "      <td>2.589573</td>\n",
       "      <td>1.603355</td>\n",
       "      <td>3.400091</td>\n",
       "      <td>1.405679</td>\n",
       "      <td>675.000000</td>\n",
       "      <td>3328.839243</td>\n",
       "      <td>6.713434e+06</td>\n",
       "      <td>0.584000</td>\n",
       "    </tr>\n",
       "    <tr>\n",
       "      <th>75%</th>\n",
       "      <td>2012.000000</td>\n",
       "      <td>1.697602</td>\n",
       "      <td>44.823220</td>\n",
       "      <td>77.529560</td>\n",
       "      <td>20.224593</td>\n",
       "      <td>23.805372</td>\n",
       "      <td>33.702539</td>\n",
       "      <td>4.290566</td>\n",
       "      <td>3668.000000</td>\n",
       "      <td>12176.145617</td>\n",
       "      <td>2.204167e+07</td>\n",
       "      <td>0.724000</td>\n",
       "    </tr>\n",
       "    <tr>\n",
       "      <th>max</th>\n",
       "      <td>2019.000000</td>\n",
       "      <td>21.063512</td>\n",
       "      <td>177.953809</td>\n",
       "      <td>283.881378</td>\n",
       "      <td>215.433898</td>\n",
       "      <td>301.746993</td>\n",
       "      <td>393.255319</td>\n",
       "      <td>38.409826</td>\n",
       "      <td>580804.000000</td>\n",
       "      <td>123678.702100</td>\n",
       "      <td>1.407745e+09</td>\n",
       "      <td>0.929000</td>\n",
       "    </tr>\n",
       "  </tbody>\n",
       "</table>\n",
       "</div>"
      ],
      "text/plain": [
       "              Year  Deaths_OZone  Deaths_PM2.5  Deaths_Indoor  \\\n",
       "count  5712.000000   5712.000000   5712.000000    5712.000000   \n",
       "mean   2004.842787      1.314585     35.660965      45.802912   \n",
       "std       8.561956      1.737284     27.733254      55.801081   \n",
       "min    1990.000000      0.000000      4.252653       0.000000   \n",
       "25%    1998.000000      0.301701     16.209726       1.180528   \n",
       "50%    2005.000000      0.762014     27.731755      20.003509   \n",
       "75%    2012.000000      1.697602     44.823220      77.529560   \n",
       "max    2019.000000     21.063512    177.953809     283.881378   \n",
       "\n",
       "       Deaths_Handwashing  Deaths_Sanitation  Deaths_Water  Deaths_HighTemp  \\\n",
       "count         5712.000000        5712.000000   5712.000000      5712.000000   \n",
       "mean            16.299296          20.197859     27.737189         3.249897   \n",
       "std             28.414460          37.428147     49.808361         4.655020   \n",
       "min              0.000000           0.000000      0.000000        -0.401890   \n",
       "25%              0.550901           0.080562      0.236367         0.208564   \n",
       "50%              2.589573           1.603355      3.400091         1.405679   \n",
       "75%             20.224593          23.805372     33.702539         4.290566   \n",
       "max            215.433898         301.746993    393.255319        38.409826   \n",
       "\n",
       "       Deaths_LowTemp    GDP_pCapita    Population         SoDI  \n",
       "count     5712.000000    5712.000000  5.712000e+03  5712.000000  \n",
       "mean      7468.278361   10463.504255  3.371433e+07     0.566551  \n",
       "std      37513.970083   16346.645636  1.285389e+08     0.192051  \n",
       "min        -22.000000      22.795345  8.910000e+03     0.050800  \n",
       "25%         44.750000     990.776456  1.521587e+06     0.423000  \n",
       "50%        675.000000    3328.839243  6.713434e+06     0.584000  \n",
       "75%       3668.000000   12176.145617  2.204167e+07     0.724000  \n",
       "max     580804.000000  123678.702100  1.407745e+09     0.929000  "
      ]
     },
     "execution_count": 11,
     "metadata": {},
     "output_type": "execute_result"
    }
   ],
   "source": [
    "df1.describe()"
   ]
  },
  {
   "cell_type": "markdown",
   "metadata": {},
   "source": [
    "**NOTE** Steps in 2.0 are repeated in the 4th script for completeness"
   ]
  },
  {
   "cell_type": "markdown",
   "metadata": {},
   "source": [
    "## 3.0 Testing KNN Regression"
   ]
  },
  {
   "cell_type": "code",
   "execution_count": 12,
   "metadata": {},
   "outputs": [],
   "source": [
    "#Independent Variables\n",
    "features=['Year','GDP_pCapita','Population','SoDI'] #'Country' & 'Income_Class' would need to be encoded\n",
    "X=df1.loc[:,features]"
   ]
  },
  {
   "cell_type": "code",
   "execution_count": 13,
   "metadata": {},
   "outputs": [],
   "source": [
    "#Dependent variable - classify the level of indoor pollution deaths\n",
    "y=df1.loc[:,['Deaths_Indoor']]"
   ]
  },
  {
   "cell_type": "code",
   "execution_count": 14,
   "metadata": {},
   "outputs": [],
   "source": [
    "#y='Deaths_OZone','Deaths_PM2.5','Deaths_Indoor'"
   ]
  },
  {
   "cell_type": "code",
   "execution_count": 15,
   "metadata": {
    "scrolled": true
   },
   "outputs": [
    {
     "data": {
      "text/html": [
       "<div>\n",
       "<style scoped>\n",
       "    .dataframe tbody tr th:only-of-type {\n",
       "        vertical-align: middle;\n",
       "    }\n",
       "\n",
       "    .dataframe tbody tr th {\n",
       "        vertical-align: top;\n",
       "    }\n",
       "\n",
       "    .dataframe thead th {\n",
       "        text-align: right;\n",
       "    }\n",
       "</style>\n",
       "<table border=\"1\" class=\"dataframe\">\n",
       "  <thead>\n",
       "    <tr style=\"text-align: right;\">\n",
       "      <th></th>\n",
       "      <th>count</th>\n",
       "      <th>mean</th>\n",
       "      <th>std</th>\n",
       "      <th>min</th>\n",
       "      <th>25%</th>\n",
       "      <th>50%</th>\n",
       "      <th>75%</th>\n",
       "      <th>max</th>\n",
       "    </tr>\n",
       "  </thead>\n",
       "  <tbody>\n",
       "    <tr>\n",
       "      <th>Year</th>\n",
       "      <td>3998.0</td>\n",
       "      <td>1.774163e-15</td>\n",
       "      <td>1.000125</td>\n",
       "      <td>-1.735252</td>\n",
       "      <td>-0.803601</td>\n",
       "      <td>0.011593</td>\n",
       "      <td>0.826788</td>\n",
       "      <td>1.641982</td>\n",
       "    </tr>\n",
       "    <tr>\n",
       "      <th>GDP_pCapita</th>\n",
       "      <td>3998.0</td>\n",
       "      <td>8.191991e-17</td>\n",
       "      <td>1.000125</td>\n",
       "      <td>-0.641080</td>\n",
       "      <td>-0.583010</td>\n",
       "      <td>-0.443196</td>\n",
       "      <td>0.122622</td>\n",
       "      <td>6.889054</td>\n",
       "    </tr>\n",
       "    <tr>\n",
       "      <th>Population</th>\n",
       "      <td>3998.0</td>\n",
       "      <td>2.099371e-17</td>\n",
       "      <td>1.000125</td>\n",
       "      <td>-0.259733</td>\n",
       "      <td>-0.248833</td>\n",
       "      <td>-0.209174</td>\n",
       "      <td>-0.093579</td>\n",
       "      <td>10.468321</td>\n",
       "    </tr>\n",
       "    <tr>\n",
       "      <th>SoDI</th>\n",
       "      <td>3998.0</td>\n",
       "      <td>-8.197545e-17</td>\n",
       "      <td>1.000125</td>\n",
       "      <td>-2.659545</td>\n",
       "      <td>-0.756217</td>\n",
       "      <td>0.089678</td>\n",
       "      <td>0.823217</td>\n",
       "      <td>1.877034</td>\n",
       "    </tr>\n",
       "  </tbody>\n",
       "</table>\n",
       "</div>"
      ],
      "text/plain": [
       "              count          mean       std       min       25%       50%  \\\n",
       "Year         3998.0  1.774163e-15  1.000125 -1.735252 -0.803601  0.011593   \n",
       "GDP_pCapita  3998.0  8.191991e-17  1.000125 -0.641080 -0.583010 -0.443196   \n",
       "Population   3998.0  2.099371e-17  1.000125 -0.259733 -0.248833 -0.209174   \n",
       "SoDI         3998.0 -8.197545e-17  1.000125 -2.659545 -0.756217  0.089678   \n",
       "\n",
       "                  75%        max  \n",
       "Year         0.826788   1.641982  \n",
       "GDP_pCapita  0.122622   6.889054  \n",
       "Population  -0.093579  10.468321  \n",
       "SoDI         0.823217   1.877034  "
      ]
     },
     "execution_count": 15,
     "metadata": {},
     "output_type": "execute_result"
    }
   ],
   "source": [
    "SEED = 42\n",
    "#Split the train and test data - assume 70-30 Split\n",
    "X_train, X_test, y_train, y_test = train_test_split(X, y, test_size=0.3, random_state=SEED)\n",
    "scaler = StandardScaler()\n",
    "# Fit only on X_train\n",
    "scaler.fit(X_train)\n",
    "# Scale both X_train and X_test\n",
    "X_train = scaler.transform(X_train)\n",
    "X_test = scaler.transform(X_test)\n",
    "scaled_df = pd.DataFrame(X_train, columns=features)\n",
    "scaled_df.describe().T"
   ]
  },
  {
   "cell_type": "code",
   "execution_count": 16,
   "metadata": {},
   "outputs": [
    {
     "name": "stdout",
     "output_type": "stream",
     "text": [
      "KNN Classifer Score with Default Setting: \n",
      " 0.8388161221377001\n"
     ]
    }
   ],
   "source": [
    "KNN_regressor = KNeighborsRegressor(n_neighbors=5)\n",
    "KNN_regressor.fit(X_train, y_train)\n",
    "KNN_score=KNN_regressor.score(X_test, y_test)\n",
    "print (\"KNN Classifer Score with Default Setting: \\n {}\".format(KNN_score))"
   ]
  },
  {
   "cell_type": "code",
   "execution_count": 17,
   "metadata": {},
   "outputs": [],
   "source": [
    "#Predicted indoor pollution deaths for the testing independent variables\n",
    "y_pred = KNN_regressor.predict(X_test)"
   ]
  },
  {
   "cell_type": "code",
   "execution_count": 18,
   "metadata": {},
   "outputs": [
    {
     "data": {
      "text/plain": [
       "(1714, 1)"
      ]
     },
     "execution_count": 18,
     "metadata": {},
     "output_type": "execute_result"
    }
   ],
   "source": [
    "y_pred.shape"
   ]
  },
  {
   "cell_type": "code",
   "execution_count": 19,
   "metadata": {
    "scrolled": false
   },
   "outputs": [
    {
     "name": "stdout",
     "output_type": "stream",
     "text": [
      "The MSE is: Deaths_Indoor    486.790839\n",
      "dtype: float64\n"
     ]
    }
   ],
   "source": [
    "#Performance Mean Squared Error\n",
    "print (\"The MSE is:\",format(np.power(y_test-y_pred,2).mean()))"
   ]
  },
  {
   "cell_type": "markdown",
   "metadata": {},
   "source": [
    "## 4.0 Use PyCaret for Model Selection - Regression (Random Forest)"
   ]
  },
  {
   "cell_type": "markdown",
   "metadata": {},
   "source": [
    "**NOTE** BE CAREFUL WHEN RUNNING, THE KERNEL MAY KEEP DYING, MODELS MAY NEED TO BE RUN ONE AT A TIME AND REPEATEDLY"
   ]
  },
  {
   "cell_type": "code",
   "execution_count": 20,
   "metadata": {},
   "outputs": [],
   "source": [
    "from pycaret.regression import *"
   ]
  },
  {
   "cell_type": "code",
   "execution_count": 22,
   "metadata": {},
   "outputs": [],
   "source": [
    "#Independent Variables\n",
    "features=['Year','GDP_pCapita','Population','SoDI','Income_Class'] #Add income class to the list of features\n",
    "X=df1.loc[:,features]"
   ]
  },
  {
   "cell_type": "markdown",
   "metadata": {},
   "source": [
    "### 4.1 Model Selection for Deaths due to Indoor Air Pollution"
   ]
  },
  {
   "cell_type": "code",
   "execution_count": null,
   "metadata": {},
   "outputs": [],
   "source": [
    "#Dependent variable - classify the level of indoor pollution death\n",
    "y=df1.loc[:,['Deaths_Indoor']]"
   ]
  },
  {
   "cell_type": "code",
   "execution_count": null,
   "metadata": {
    "scrolled": false
   },
   "outputs": [],
   "source": [
    "#Split the train/train data & validation data - assume 80-20 Split\n",
    "# Testing/Training data that PyCaret will split by itself\n",
    "SEED=42\n",
    "X_train_test, X_validate, y_train_test, y_validate = train_test_split(X, y, test_size=0.3, random_state=SEED)\n",
    "\n",
    "#Merge the data back into separate dfs after splitting\n",
    "df_train_test = pd.merge(X_train_test,y_train_test,how='inner',left_index=True,right_index=True) #Training data\n",
    "df_validate= pd.merge(X_validate,y_validate,how='inner',left_index=True,right_index=True)"
   ]
  },
  {
   "cell_type": "code",
   "execution_count": null,
   "metadata": {},
   "outputs": [],
   "source": [
    "X_train_test.shape"
   ]
  },
  {
   "cell_type": "code",
   "execution_count": null,
   "metadata": {},
   "outputs": [],
   "source": [
    "#Initialize the PyCaret setup\n",
    "s = setup(data=df_train_test,target='Deaths_Indoor',use_gpu=True)"
   ]
  },
  {
   "cell_type": "markdown",
   "metadata": {},
   "source": [
    "Note that we have already split the data but pycaret carries out additional train-test splits:\n",
    "9\tTransformed Train Set\t(2798, 8)\n",
    "then iterators \n",
    "10\tTransformed Test Set\t(1200, 8)\n",
    "\n",
    "K-Fold (with k=10) is also conducted: resampling is implemented 10 times without data replacement, to avoid overfitting. <br>\n",
    "The data is split into test test-train sets and during each run,  "
   ]
  },
  {
   "cell_type": "code",
   "execution_count": null,
   "metadata": {
    "scrolled": false
   },
   "outputs": [],
   "source": [
    "#Multi-model training/test - Compare Mean Squared Error (MSE)\n",
    "best_indoor = compare_models(sort='MSE')"
   ]
  },
  {
   "cell_type": "markdown",
   "metadata": {},
   "source": [
    "It appears that Random forest regressor is the best option"
   ]
  },
  {
   "cell_type": "markdown",
   "metadata": {},
   "source": [
    "Random forest has the lowest MSE, Root(MSE) (or RMSE), an and Mean Absolute value of Errors (MAE) <br>\n",
    "RMSE and MAE represent the average of errors, meaning Random forest is able to predict values with an MAE/RMSE <15 or so deaths per 100,000 <br>\n",
    "Additionally the r^2 for the random forest regressor is the highest. It's score compares to the linear regression models built for each region."
   ]
  },
  {
   "cell_type": "code",
   "execution_count": null,
   "metadata": {},
   "outputs": [],
   "source": [
    "# Examine parameters of the best model \n",
    "#Random Forest Regressor\n",
    "evaluate_model(best_indoor)"
   ]
  },
  {
   "cell_type": "code",
   "execution_count": null,
   "metadata": {},
   "outputs": [],
   "source": [
    "#Plot learning Curve\n",
    "#Uncomment to plot again, takes some time to run\n",
    "plot_model(best_indoor, plot = 'learning')"
   ]
  },
  {
   "cell_type": "markdown",
   "metadata": {},
   "source": [
    "As shown in the learning curve, model training score doesn't increase greatly with with an increase in training instances between. In contrast, cross-validation model scores increase moderately from around 87% to 93%  (roughly 19% to 63% of the total test-train dataset). The model does not appear to be overfit"
   ]
  },
  {
   "cell_type": "code",
   "execution_count": null,
   "metadata": {
    "scrolled": true
   },
   "outputs": [],
   "source": [
    "#Uncomment to plot again, takes some time to run\n",
    "plot_model(best_indoor, plot = 'residuals')"
   ]
  },
  {
   "cell_type": "markdown",
   "metadata": {},
   "source": [
    "The residuals plot shows the distribution of residual (delta between actual vs predicted indoor air pollution deaths), which are larely within +/-5 deaths per 100,000, which is reasonable on the individual country level considering the {mean,max} of the metric = {20,2830}, considering the R2 is actually around 93-94%"
   ]
  },
  {
   "cell_type": "code",
   "execution_count": null,
   "metadata": {
    "scrolled": false
   },
   "outputs": [],
   "source": [
    "#Uncomment to plot again, takes some time to run\n",
    "plot_model(best_indoor, plot = 'vc')"
   ]
  },
  {
   "cell_type": "markdown",
   "metadata": {},
   "source": [
    "The actual estimator (max depth) reprents the maximum number of decision tree levels were used in the cross-validation exercise. The cross-validation score has a significant increase from around 77% to 93% from a tree depth of 2 to 10. Typically a max depth around 5 to 7 is recommended in online resources."
   ]
  },
  {
   "cell_type": "code",
   "execution_count": null,
   "metadata": {},
   "outputs": [],
   "source": [
    "#Uncomment to plot again, takes some time to run\n",
    "plot_model(best_indoor, plot = 'feature')"
   ]
  },
  {
   "cell_type": "markdown",
   "metadata": {},
   "source": [
    "The Feature Importance plot shows that the Social-Demographic Index (SoDI) drives the model at a variable importance of around 0.7, with GDP per capita, and population because the next two important factors. The year does not seem to contribute much, which could be a problem when projecting the model forward into time."
   ]
  },
  {
   "cell_type": "code",
   "execution_count": null,
   "metadata": {},
   "outputs": [],
   "source": [
    "#Plotting the Tree takes very long as it is running n_estimators = 100\n",
    "#Uncomment to plot\n",
    "#plot_model(best_indoor, plot = 'tree')"
   ]
  },
  {
   "cell_type": "code",
   "execution_count": null,
   "metadata": {
    "scrolled": false
   },
   "outputs": [],
   "source": [
    "#Use random forest model to predict validation dataset indoor pollution deaths per 100,000\n",
    "predictions = predict_model(best_indoor, data=df_validate)\n",
    "predictions"
   ]
  },
  {
   "cell_type": "markdown",
   "metadata": {},
   "source": [
    "Even with the validation dataset the model has a similar RMSE,MAE,R2 to the test-train dataset used to build the model, so it shows that the model was not overfitted to the input data. It is also possible that the data is relatively linear."
   ]
  },
  {
   "cell_type": "code",
   "execution_count": null,
   "metadata": {},
   "outputs": [],
   "source": [
    "#Save Model\n",
    "save_model(best_indoor,'Indoor Deaths Random Forest 2022-10-18')"
   ]
  },
  {
   "cell_type": "markdown",
   "metadata": {},
   "source": [
    "**IMPORTANT NOTE** Since this is just a test for which model may offer the best solution, the fact that the data is time-series data was omitted. The first model actually just predicts deaths based mainly on socio-demographic and economic factors. The meaning of the 'Year' is not actually being interpreted as a data-time variable. <br>\n",
    "We will test for model selection, while preserving time series\n",
    "#fold_strategy = 'timeseries'"
   ]
  },
  {
   "cell_type": "code",
   "execution_count": null,
   "metadata": {},
   "outputs": [],
   "source": [
    "# Use PyCaret's built-in timeseries split\n",
    "#Merge the data back into separate dfs after splitting\n",
    "df_train_test = pd.merge(X,y,how='inner',left_index=True,right_index=True) #full dataset - let pycaret split"
   ]
  },
  {
   "cell_type": "code",
   "execution_count": null,
   "metadata": {},
   "outputs": [],
   "source": [
    "df_train_test"
   ]
  },
  {
   "cell_type": "code",
   "execution_count": null,
   "metadata": {},
   "outputs": [],
   "source": [
    "#Initialize the PyCaret setup\n",
    "s = setup(data=df_train_test,target='Deaths_Indoor',fold_strategy='timeseries',data_split_shuffle = False,use_gpu=True)"
   ]
  },
  {
   "cell_type": "code",
   "execution_count": null,
   "metadata": {
    "scrolled": false
   },
   "outputs": [],
   "source": [
    "#Multi-model training/test - Compare Mean Squared Error (MSE)\n",
    "best_indoor = compare_models(sort='MSE')"
   ]
  },
  {
   "cell_type": "markdown",
   "metadata": {},
   "source": [
    "### 4.2 Model Selection for Outdoor Pollution - PM2.5"
   ]
  },
  {
   "cell_type": "markdown",
   "metadata": {},
   "source": [
    "Now we will test models for predictions on outdoor PM2.5 pollution."
   ]
  },
  {
   "cell_type": "code",
   "execution_count": null,
   "metadata": {},
   "outputs": [],
   "source": [
    "#Dependent variable - classify the level of indoor pollution death\n",
    "y=df1.loc[:,['Deaths_PM2.5']]"
   ]
  },
  {
   "cell_type": "code",
   "execution_count": null,
   "metadata": {
    "scrolled": false
   },
   "outputs": [],
   "source": [
    "#Split the train/train data & validation data - assume 80-20 Split\n",
    "# Testing/Training data that PyCaret will split by itself\n",
    "X_train_test, X_validate, y_train_test, y_validate = train_test_split(X, y, test_size=0.3, random_state=SEED)\n",
    "\n",
    "#Merge the data back into separate dfs after splitting\n",
    "df_train_test = pd.merge(X_train_test,y_train_test,how='inner',left_index=True,right_index=True) #Training data\n",
    "df_validate= pd.merge(X_validate,y_validate,how='inner',left_index=True,right_index=True)"
   ]
  },
  {
   "cell_type": "code",
   "execution_count": null,
   "metadata": {},
   "outputs": [],
   "source": [
    "X_train_test.shape"
   ]
  },
  {
   "cell_type": "code",
   "execution_count": null,
   "metadata": {},
   "outputs": [],
   "source": [
    "#Initialize the PyCaret setup\n",
    "s = setup(data=df_train_test,target='Deaths_PM2.5',use_gpu=True)"
   ]
  },
  {
   "cell_type": "code",
   "execution_count": null,
   "metadata": {
    "scrolled": false
   },
   "outputs": [],
   "source": [
    "#Multi-model training/test - Compare Mean Squared Error (MSE)\n",
    "best_PM2_5 = compare_models(sort='MSE')"
   ]
  },
  {
   "cell_type": "markdown",
   "metadata": {},
   "source": [
    "Random forest regressor, Extra Trees, Decision Trees, and Gradient Boosting seem to be the best model for this as well, However it appears that R2 is much lower for the best performing model at 0.83."
   ]
  },
  {
   "cell_type": "code",
   "execution_count": null,
   "metadata": {},
   "outputs": [],
   "source": [
    "# Examine parameters of the best model \n",
    "#Random Forest Regressor\n",
    "evaluate_model(best_PM2_5)"
   ]
  },
  {
   "cell_type": "code",
   "execution_count": null,
   "metadata": {},
   "outputs": [],
   "source": [
    "#Plot learning Curve\n",
    "plot_model(best_PM2_5, plot = 'learning')"
   ]
  },
  {
   "cell_type": "markdown",
   "metadata": {},
   "source": [
    "As shown in the learning curve, model training score doesn't increase greatly with with an increase in training instances between. In contrast, cross-validation model scores increase moderately from around 70% to 84% when increase from 750 to 2500 training sets. The model does not appear to be overfit"
   ]
  },
  {
   "cell_type": "code",
   "execution_count": null,
   "metadata": {
    "scrolled": true
   },
   "outputs": [],
   "source": [
    "#Plot residuals\n",
    "plot_model(best_PM2_5, plot = 'residuals')"
   ]
  },
  {
   "cell_type": "markdown",
   "metadata": {},
   "source": [
    "Similar insights can be drawn from the model for Indoor pollution deaths"
   ]
  },
  {
   "cell_type": "code",
   "execution_count": null,
   "metadata": {
    "scrolled": false
   },
   "outputs": [],
   "source": [
    "#plot validation curve\n",
    "plot_model(best_PM2_5, plot = 'vc')"
   ]
  },
  {
   "cell_type": "markdown",
   "metadata": {},
   "source": [
    "The actual estimator (max depth) reprents the maximum number of decision tree levels were used in the cross-validation exercise. The cross-validation score has a significant increase from around 77% to 93% from a tree depth of 2 to 10. Typically a max depth around 5 to 7 is recommended in online resources."
   ]
  },
  {
   "cell_type": "code",
   "execution_count": null,
   "metadata": {},
   "outputs": [],
   "source": [
    "#Plot feature importance\n",
    "plot_model(best_PM2_5, plot = 'feature')"
   ]
  },
  {
   "cell_type": "markdown",
   "metadata": {},
   "source": [
    "The Feature Importance plot shows that the Social-Demographic Index (SoDI) drives the model at a variable importance of around 0.4, with GDP per capita, and population because the next two important factors. In this case GDP per capita and population have a more significant effect at aroun 0.25. The same observation can be made about the importance of the year as indoor deaths."
   ]
  },
  {
   "cell_type": "code",
   "execution_count": null,
   "metadata": {},
   "outputs": [],
   "source": [
    "#Plotting the Tree takes very long as it is running n_estimators = 100\n",
    "#Uncomment to plot , takes some time to run even on Colab\n",
    "\n",
    "#plot_model(best_indoor, plot = 'tree')"
   ]
  },
  {
   "cell_type": "code",
   "execution_count": null,
   "metadata": {
    "scrolled": false
   },
   "outputs": [],
   "source": [
    "#Use random forest model to predict validation dataset indoor pollution deaths per 100,000\n",
    "predictions = predict_model(best_PM2_5, data=df_validate)\n",
    "predictions"
   ]
  },
  {
   "cell_type": "code",
   "execution_count": null,
   "metadata": {
    "scrolled": true
   },
   "outputs": [],
   "source": [
    "#Save Model\n",
    "#UNCOMMENT to save\n",
    "#save_model(best_PM2_5,'PM2.5 Deaths Random Forest 2022-10-18')"
   ]
  },
  {
   "cell_type": "markdown",
   "metadata": {},
   "source": [
    "### 4.3 Model Selection for Outdoor Pollution - OZone"
   ]
  },
  {
   "cell_type": "markdown",
   "metadata": {},
   "source": [
    "Now we will test models for predictions on outdoor OZone pollution deaths."
   ]
  },
  {
   "cell_type": "code",
   "execution_count": null,
   "metadata": {},
   "outputs": [],
   "source": [
    "#Dependent variable - classify the level of indoor pollution death\n",
    "y=df1.loc[:,['Deaths_OZone']]"
   ]
  },
  {
   "cell_type": "code",
   "execution_count": null,
   "metadata": {
    "scrolled": false
   },
   "outputs": [],
   "source": [
    "# Split the train/train data & validation data - assume 70-30 Split\n",
    "# Testing/Training data that PyCaret will split by itself\n",
    "SEED=42\n",
    "X_train_test, X_validate, y_train_test, y_validate = train_test_split(X, y, test_size=0.3, random_state=SEED)\n",
    "#Merge the data back into separate dfs after splitting\n",
    "df_train_test = pd.merge(X_train_test,y_train_test,how='inner',left_index=True,right_index=True) #Training data\n",
    "df_validate= pd.merge(X_validate,y_validate,how='inner',left_index=True,right_index=True)"
   ]
  },
  {
   "cell_type": "code",
   "execution_count": null,
   "metadata": {
    "scrolled": true
   },
   "outputs": [],
   "source": [
    "X_train_test.shape"
   ]
  },
  {
   "cell_type": "code",
   "execution_count": null,
   "metadata": {},
   "outputs": [],
   "source": [
    "# Initialize the PyCaret setup\n",
    "# Use GPU\n",
    "\n",
    "# transform-target = true, we want to scale the OZone deaths label\n",
    "s = setup(data=df_train_test,target='Deaths_OZone',use_gpu=True,transform_target=True,transform_target_method='yeo-johnson')"
   ]
  },
  {
   "cell_type": "code",
   "execution_count": null,
   "metadata": {
    "scrolled": false
   },
   "outputs": [],
   "source": [
    "#Multi-model training/test - Compare R2 as the other end\n",
    "\n",
    "best_OZone = compare_models(sort='R2')"
   ]
  },
  {
   "cell_type": "markdown",
   "metadata": {},
   "source": [
    "**Without target transformation:** <br>\n",
    "Predicting deaths due to OZone pollution appears to be more difficult. All MAE/MSE/RMSE/RMSLE values are all close to 0 because the amplitudes of the target is very small. If we scale the target as shown above, the model performance is even worse. Extra Trees Regressor appears to have an acceptable R2 of 0.7-0.8. <br>\n",
    "**With target transformation**: <br>\n",
    "Extra Trees Regressor R2 = 0.65, which is worse."
   ]
  },
  {
   "cell_type": "code",
   "execution_count": null,
   "metadata": {
    "scrolled": true
   },
   "outputs": [],
   "source": [
    "#Initialize the PyCaret setup\n",
    "#Use GPU\n",
    "\n",
    "#NO Target transformation\n",
    "s = setup(data=df_train_test,target='Deaths_OZone',use_gpu=True)\n",
    "#NOTE this is time series data the folds strategy needs to preserve series\n",
    "#fold_strategy = 'timeseries'"
   ]
  },
  {
   "cell_type": "code",
   "execution_count": null,
   "metadata": {
    "scrolled": true
   },
   "outputs": [],
   "source": [
    "#Multi-model training/test - Compare R2 as the other ind\n",
    "best_OZone = compare_models(sort='R2')"
   ]
  },
  {
   "cell_type": "code",
   "execution_count": null,
   "metadata": {},
   "outputs": [],
   "source": [
    "# Examine parameters of the best model \n",
    "#Random Forest Regressor\n",
    "evaluate_model(best_OZone)"
   ]
  },
  {
   "cell_type": "code",
   "execution_count": null,
   "metadata": {},
   "outputs": [],
   "source": [
    "#Plot learning Curve\n",
    "plot_model(best_OZone, plot = 'learning')"
   ]
  },
  {
   "cell_type": "markdown",
   "metadata": {},
   "source": [
    "A signficant improvement can be found in the Extra Trees Regressor score by increasing the training instances. The training score appears to be highly overfitted. This may be because all the target values are close to 0, and the slopes of the linear regression models are very low, which indicates a relative stagnation in OZone pollution deaths per year."
   ]
  },
  {
   "cell_type": "code",
   "execution_count": null,
   "metadata": {
    "scrolled": true
   },
   "outputs": [],
   "source": [
    "plot_model(best_OZone, plot = 'residuals')"
   ]
  },
  {
   "cell_type": "code",
   "execution_count": null,
   "metadata": {
    "scrolled": false
   },
   "outputs": [],
   "source": [
    "plot_model(best_OZone, plot = 'vc')"
   ]
  },
  {
   "cell_type": "markdown",
   "metadata": {},
   "source": [
    "The cross-validation score has a very significant increase from around 25% to 65% from a tree depth of 2 to 10. "
   ]
  },
  {
   "cell_type": "code",
   "execution_count": null,
   "metadata": {},
   "outputs": [],
   "source": [
    "plot_model(best_OZone, plot = 'feature')"
   ]
  },
  {
   "cell_type": "markdown",
   "metadata": {},
   "source": [
    "Feature importance is more similar to the PM2.5 model"
   ]
  },
  {
   "cell_type": "code",
   "execution_count": null,
   "metadata": {
    "scrolled": false
   },
   "outputs": [],
   "source": [
    "#Use random forest model to predict validation dataset indoor pollution deaths per 100,000\n",
    "predictions = predict_model(best_OZone, data=df_validate)\n",
    "predictions"
   ]
  },
  {
   "cell_type": "code",
   "execution_count": null,
   "metadata": {
    "scrolled": false
   },
   "outputs": [],
   "source": [
    "#Save Model\n",
    "save_model(best_OZone,'OZone Deaths Random Forest 2022-10-18')"
   ]
  },
  {
   "cell_type": "markdown",
   "metadata": {},
   "source": [
    "It appears that extra tree regression would be the candidate to spend the most time building from scrath as we have already examined results from the random forest regression."
   ]
  },
  {
   "cell_type": "markdown",
   "metadata": {},
   "source": [
    "RandomForestRegressor(bootstrap=True, ccp_alpha=0.0, criterion='mse',\n",
    "                      max_depth=None, max_features='auto', max_leaf_nodes=None,\n",
    "                      max_samples=None, min_impurity_decrease=0.0,\n",
    "                      min_impurity_split=None, min_samples_leaf=1,\n",
    "                      min_samples_split=2, min_weight_fraction_leaf=0.0,\n",
    "                      n_estimators=100, n_jobs=-1, oob_score=False,\n",
    "                      random_state=7671, verbose=0, warm_start=False)"
   ]
  }
 ],
 "metadata": {
  "kernelspec": {
   "display_name": "Python 3 (ipykernel)",
   "language": "python",
   "name": "python3"
  },
  "language_info": {
   "codemirror_mode": {
    "name": "ipython",
    "version": 3
   },
   "file_extension": ".py",
   "mimetype": "text/x-python",
   "name": "python",
   "nbconvert_exporter": "python",
   "pygments_lexer": "ipython3",
   "version": "3.8.5"
  }
 },
 "nbformat": 4,
 "nbformat_minor": 4
}
